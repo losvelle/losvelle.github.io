{
  "nbformat": 4,
  "nbformat_minor": 0,
  "metadata": {
    "colab": {
      "name": "XGBOOST_RETURNS",
      "provenance": [],
      "collapsed_sections": []
    },
    "kernelspec": {
      "display_name": "Python 3",
      "name": "python3"
    }
  },
  "cells": [
    {
      "cell_type": "code",
      "metadata": {
        "colab": {
          "base_uri": "https://localhost:8080/",
          "height": 35
        },
        "id": "2HFrq6GJnXd6",
        "outputId": "6234a33f-5a26-4f3f-bcc9-e88acc8a1f9d"
      },
      "source": [
        "import pandas as pd\n",
        "import pandas_datareader as web\n",
        "import yfinance as yf\n",
        "import numpy as np\n",
        "import xgboost as xgb\n",
        "import matplotlib.pyplot as plt\n",
        "import datetime\n",
        "xgb.__version__"
      ],
      "execution_count": 9,
      "outputs": [
        {
          "output_type": "execute_result",
          "data": {
            "application/vnd.google.colaboratory.intrinsic+json": {
              "type": "string"
            },
            "text/plain": [
              "'0.90'"
            ]
          },
          "metadata": {
            "tags": []
          },
          "execution_count": 9
        }
      ]
    },
    {
      "cell_type": "code",
      "metadata": {
        "id": "VvtZel_2noKd"
      },
      "source": [
        "#variables ticker to predict and ticker to compare it to\n",
        "ticker_pred = \"SPY\"\n",
        "ticker_comp_2 = \"QQQ\"\n",
        "\n",
        "prediction_feature = \"Close\"\n",
        "prediction_feature_2 = \"Close\""
      ],
      "execution_count": 10,
      "outputs": []
    },
    {
      "cell_type": "code",
      "metadata": {
        "colab": {
          "base_uri": "https://localhost:8080/"
        },
        "id": "I62DHcYVn03Z",
        "outputId": "eb3d5208-fc46-4a70-eb0e-8883d55a845d"
      },
      "source": [
        "#PRICE DATA FROM YAHOO FINANCE\n",
        "data_pred = yf.download(ticker_pred, start=\"2000-01-01\", end=\"2020-11-06\")\n",
        "data_pred = data_pred.drop(columns=['Adj Close'])"
      ],
      "execution_count": 11,
      "outputs": [
        {
          "output_type": "stream",
          "text": [
            "\r[*********************100%***********************]  1 of 1 completed\n"
          ],
          "name": "stdout"
        }
      ]
    },
    {
      "cell_type": "code",
      "metadata": {
        "id": "a0VCdLjIp6p2"
      },
      "source": [
        "#calculate returns\n",
        "data = data_pred.copy()\n",
        "data = data / data.shift(1)\n",
        "data = data.dropna()"
      ],
      "execution_count": 12,
      "outputs": []
    },
    {
      "cell_type": "code",
      "metadata": {
        "colab": {
          "base_uri": "https://localhost:8080/",
          "height": 235
        },
        "id": "AAUys9D_HBEq",
        "outputId": "268806a8-5087-41de-9a51-43ee1aed5593"
      },
      "source": [
        "data_pred.tail()"
      ],
      "execution_count": 13,
      "outputs": [
        {
          "output_type": "execute_result",
          "data": {
            "text/html": [
              "<div>\n",
              "<style scoped>\n",
              "    .dataframe tbody tr th:only-of-type {\n",
              "        vertical-align: middle;\n",
              "    }\n",
              "\n",
              "    .dataframe tbody tr th {\n",
              "        vertical-align: top;\n",
              "    }\n",
              "\n",
              "    .dataframe thead th {\n",
              "        text-align: right;\n",
              "    }\n",
              "</style>\n",
              "<table border=\"1\" class=\"dataframe\">\n",
              "  <thead>\n",
              "    <tr style=\"text-align: right;\">\n",
              "      <th></th>\n",
              "      <th>Open</th>\n",
              "      <th>High</th>\n",
              "      <th>Low</th>\n",
              "      <th>Close</th>\n",
              "      <th>Volume</th>\n",
              "    </tr>\n",
              "    <tr>\n",
              "      <th>Date</th>\n",
              "      <th></th>\n",
              "      <th></th>\n",
              "      <th></th>\n",
              "      <th></th>\n",
              "      <th></th>\n",
              "    </tr>\n",
              "  </thead>\n",
              "  <tbody>\n",
              "    <tr>\n",
              "      <th>2020-10-30</th>\n",
              "      <td>328.279999</td>\n",
              "      <td>329.690002</td>\n",
              "      <td>322.600006</td>\n",
              "      <td>326.540009</td>\n",
              "      <td>120287300</td>\n",
              "    </tr>\n",
              "    <tr>\n",
              "      <th>2020-11-02</th>\n",
              "      <td>330.200012</td>\n",
              "      <td>332.359985</td>\n",
              "      <td>327.239990</td>\n",
              "      <td>330.200012</td>\n",
              "      <td>86068300</td>\n",
              "    </tr>\n",
              "    <tr>\n",
              "      <th>2020-11-03</th>\n",
              "      <td>333.690002</td>\n",
              "      <td>338.250000</td>\n",
              "      <td>330.290009</td>\n",
              "      <td>336.029999</td>\n",
              "      <td>93294200</td>\n",
              "    </tr>\n",
              "    <tr>\n",
              "      <th>2020-11-04</th>\n",
              "      <td>340.859985</td>\n",
              "      <td>347.940002</td>\n",
              "      <td>339.589996</td>\n",
              "      <td>343.540009</td>\n",
              "      <td>126959700</td>\n",
              "    </tr>\n",
              "    <tr>\n",
              "      <th>2020-11-05</th>\n",
              "      <td>349.239990</td>\n",
              "      <td>352.190002</td>\n",
              "      <td>348.859985</td>\n",
              "      <td>350.239990</td>\n",
              "      <td>82039700</td>\n",
              "    </tr>\n",
              "  </tbody>\n",
              "</table>\n",
              "</div>"
            ],
            "text/plain": [
              "                  Open        High         Low       Close     Volume\n",
              "Date                                                                 \n",
              "2020-10-30  328.279999  329.690002  322.600006  326.540009  120287300\n",
              "2020-11-02  330.200012  332.359985  327.239990  330.200012   86068300\n",
              "2020-11-03  333.690002  338.250000  330.290009  336.029999   93294200\n",
              "2020-11-04  340.859985  347.940002  339.589996  343.540009  126959700\n",
              "2020-11-05  349.239990  352.190002  348.859985  350.239990   82039700"
            ]
          },
          "metadata": {
            "tags": []
          },
          "execution_count": 13
        }
      ]
    },
    {
      "cell_type": "code",
      "metadata": {
        "id": "oO4VYNK1qrDF"
      },
      "source": [
        "# add n sequence columns\n",
        "n_steps = 300\n",
        "for n in range(1, n_steps + 1):\n",
        "  data[f\"{n}_{prediction_feature}\"] = data[prediction_feature].shift(n)\n",
        "  data[f\"{n}_{prediction_feature_2}\"] = data[prediction_feature_2].shift(n)\n",
        "  data[f\"{n}_Volume\"] = data[\"Volume\"].shift(n)\n",
        "\n",
        "data = data.dropna()"
      ],
      "execution_count": 14,
      "outputs": []
    },
    {
      "cell_type": "code",
      "metadata": {
        "id": "7bEd7Hx8sDFt"
      },
      "source": [
        "# outcome\n",
        "data.loc[data[prediction_feature].shift(-1) > 1, 'Outcome'] = 1\n",
        "data.loc[data[prediction_feature].shift(-1) <= 1, 'Outcome'] = 0\n",
        "data = data.dropna()"
      ],
      "execution_count": 15,
      "outputs": []
    },
    {
      "cell_type": "code",
      "metadata": {
        "colab": {
          "base_uri": "https://localhost:8080/",
          "height": 340
        },
        "id": "SmQmqc10syM-",
        "outputId": "4fa0c324-eff4-40e5-a5a9-b6df35638bf1"
      },
      "source": [
        "data.tail()"
      ],
      "execution_count": 17,
      "outputs": [
        {
          "output_type": "execute_result",
          "data": {
            "text/html": [
              "<div>\n",
              "<style scoped>\n",
              "    .dataframe tbody tr th:only-of-type {\n",
              "        vertical-align: middle;\n",
              "    }\n",
              "\n",
              "    .dataframe tbody tr th {\n",
              "        vertical-align: top;\n",
              "    }\n",
              "\n",
              "    .dataframe thead th {\n",
              "        text-align: right;\n",
              "    }\n",
              "</style>\n",
              "<table border=\"1\" class=\"dataframe\">\n",
              "  <thead>\n",
              "    <tr style=\"text-align: right;\">\n",
              "      <th></th>\n",
              "      <th>Open</th>\n",
              "      <th>High</th>\n",
              "      <th>Low</th>\n",
              "      <th>Close</th>\n",
              "      <th>Volume</th>\n",
              "      <th>1_Close</th>\n",
              "      <th>1_Volume</th>\n",
              "      <th>2_Close</th>\n",
              "      <th>2_Volume</th>\n",
              "      <th>3_Close</th>\n",
              "      <th>3_Volume</th>\n",
              "      <th>4_Close</th>\n",
              "      <th>4_Volume</th>\n",
              "      <th>5_Close</th>\n",
              "      <th>5_Volume</th>\n",
              "      <th>6_Close</th>\n",
              "      <th>6_Volume</th>\n",
              "      <th>7_Close</th>\n",
              "      <th>7_Volume</th>\n",
              "      <th>8_Close</th>\n",
              "      <th>8_Volume</th>\n",
              "      <th>9_Close</th>\n",
              "      <th>9_Volume</th>\n",
              "      <th>10_Close</th>\n",
              "      <th>10_Volume</th>\n",
              "      <th>11_Close</th>\n",
              "      <th>11_Volume</th>\n",
              "      <th>12_Close</th>\n",
              "      <th>12_Volume</th>\n",
              "      <th>13_Close</th>\n",
              "      <th>13_Volume</th>\n",
              "      <th>14_Close</th>\n",
              "      <th>14_Volume</th>\n",
              "      <th>15_Close</th>\n",
              "      <th>15_Volume</th>\n",
              "      <th>16_Close</th>\n",
              "      <th>16_Volume</th>\n",
              "      <th>17_Close</th>\n",
              "      <th>17_Volume</th>\n",
              "      <th>18_Close</th>\n",
              "      <th>18_Volume</th>\n",
              "      <th>19_Close</th>\n",
              "      <th>19_Volume</th>\n",
              "      <th>20_Close</th>\n",
              "      <th>20_Volume</th>\n",
              "      <th>21_Close</th>\n",
              "      <th>21_Volume</th>\n",
              "      <th>22_Close</th>\n",
              "      <th>22_Volume</th>\n",
              "      <th>23_Close</th>\n",
              "      <th>23_Volume</th>\n",
              "      <th>24_Close</th>\n",
              "      <th>24_Volume</th>\n",
              "      <th>25_Close</th>\n",
              "      <th>25_Volume</th>\n",
              "      <th>26_Close</th>\n",
              "      <th>26_Volume</th>\n",
              "      <th>27_Close</th>\n",
              "      <th>27_Volume</th>\n",
              "      <th>28_Close</th>\n",
              "      <th>28_Volume</th>\n",
              "      <th>29_Close</th>\n",
              "      <th>29_Volume</th>\n",
              "      <th>30_Close</th>\n",
              "      <th>30_Volume</th>\n",
              "      <th>Outcome</th>\n",
              "    </tr>\n",
              "    <tr>\n",
              "      <th>Date</th>\n",
              "      <th></th>\n",
              "      <th></th>\n",
              "      <th></th>\n",
              "      <th></th>\n",
              "      <th></th>\n",
              "      <th></th>\n",
              "      <th></th>\n",
              "      <th></th>\n",
              "      <th></th>\n",
              "      <th></th>\n",
              "      <th></th>\n",
              "      <th></th>\n",
              "      <th></th>\n",
              "      <th></th>\n",
              "      <th></th>\n",
              "      <th></th>\n",
              "      <th></th>\n",
              "      <th></th>\n",
              "      <th></th>\n",
              "      <th></th>\n",
              "      <th></th>\n",
              "      <th></th>\n",
              "      <th></th>\n",
              "      <th></th>\n",
              "      <th></th>\n",
              "      <th></th>\n",
              "      <th></th>\n",
              "      <th></th>\n",
              "      <th></th>\n",
              "      <th></th>\n",
              "      <th></th>\n",
              "      <th></th>\n",
              "      <th></th>\n",
              "      <th></th>\n",
              "      <th></th>\n",
              "      <th></th>\n",
              "      <th></th>\n",
              "      <th></th>\n",
              "      <th></th>\n",
              "      <th></th>\n",
              "      <th></th>\n",
              "      <th></th>\n",
              "      <th></th>\n",
              "      <th></th>\n",
              "      <th></th>\n",
              "      <th></th>\n",
              "      <th></th>\n",
              "      <th></th>\n",
              "      <th></th>\n",
              "      <th></th>\n",
              "      <th></th>\n",
              "      <th></th>\n",
              "      <th></th>\n",
              "      <th></th>\n",
              "      <th></th>\n",
              "      <th></th>\n",
              "      <th></th>\n",
              "      <th></th>\n",
              "      <th></th>\n",
              "      <th></th>\n",
              "      <th></th>\n",
              "      <th></th>\n",
              "      <th></th>\n",
              "      <th></th>\n",
              "      <th></th>\n",
              "      <th></th>\n",
              "    </tr>\n",
              "  </thead>\n",
              "  <tbody>\n",
              "    <tr>\n",
              "      <th>2020-10-29</th>\n",
              "      <td>0.984372</td>\n",
              "      <td>0.985661</td>\n",
              "      <td>0.996811</td>\n",
              "      <td>1.010163</td>\n",
              "      <td>0.712838</td>\n",
              "      <td>0.965821</td>\n",
              "      <td>1.925843</td>\n",
              "      <td>0.996553</td>\n",
              "      <td>0.721460</td>\n",
              "      <td>0.981520</td>\n",
              "      <td>1.861330</td>\n",
              "      <td>1.003395</td>\n",
              "      <td>0.887085</td>\n",
              "      <td>1.005485</td>\n",
              "      <td>0.871401</td>\n",
              "      <td>0.998107</td>\n",
              "      <td>1.058668</td>\n",
              "      <td>1.004006</td>\n",
              "      <td>0.877623</td>\n",
              "      <td>0.984797</td>\n",
              "      <td>0.764516</td>\n",
              "      <td>0.999396</td>\n",
              "      <td>1.482858</td>\n",
              "      <td>0.998764</td>\n",
              "      <td>1.041392</td>\n",
              "      <td>0.993717</td>\n",
              "      <td>0.791186</td>\n",
              "      <td>0.993474</td>\n",
              "      <td>0.911268</td>\n",
              "      <td>1.016088</td>\n",
              "      <td>1.350418</td>\n",
              "      <td>1.008930</td>\n",
              "      <td>1.315767</td>\n",
              "      <td>1.008863</td>\n",
              "      <td>0.793734</td>\n",
              "      <td>1.017407</td>\n",
              "      <td>0.632423</td>\n",
              "      <td>0.985784</td>\n",
              "      <td>1.971621</td>\n",
              "      <td>1.017733</td>\n",
              "      <td>0.511154</td>\n",
              "      <td>0.990506</td>\n",
              "      <td>1.008257</td>\n",
              "      <td>1.006420</td>\n",
              "      <td>0.855721</td>\n",
              "      <td>1.007582</td>\n",
              "      <td>2.020384</td>\n",
              "      <td>0.994554</td>\n",
              "      <td>0.794369</td>\n",
              "      <td>1.016609</td>\n",
              "      <td>0.908754</td>\n",
              "      <td>1.016167</td>\n",
              "      <td>0.926815</td>\n",
              "      <td>1.002665</td>\n",
              "      <td>0.823537</td>\n",
              "      <td>0.976809</td>\n",
              "      <td>1.463750</td>\n",
              "      <td>1.010184</td>\n",
              "      <td>0.639634</td>\n",
              "      <td>0.988870</td>\n",
              "      <td>0.939297</td>\n",
              "      <td>0.984546</td>\n",
              "      <td>1.156841</td>\n",
              "      <td>0.991205</td>\n",
              "      <td>1.114833</td>\n",
              "      <td>0.0</td>\n",
              "    </tr>\n",
              "    <tr>\n",
              "      <th>2020-10-30</th>\n",
              "      <td>1.004191</td>\n",
              "      <td>0.988872</td>\n",
              "      <td>0.992341</td>\n",
              "      <td>0.989575</td>\n",
              "      <td>1.327708</td>\n",
              "      <td>1.010163</td>\n",
              "      <td>0.712838</td>\n",
              "      <td>0.965821</td>\n",
              "      <td>1.925843</td>\n",
              "      <td>0.996553</td>\n",
              "      <td>0.721460</td>\n",
              "      <td>0.981520</td>\n",
              "      <td>1.861330</td>\n",
              "      <td>1.003395</td>\n",
              "      <td>0.887085</td>\n",
              "      <td>1.005485</td>\n",
              "      <td>0.871401</td>\n",
              "      <td>0.998107</td>\n",
              "      <td>1.058668</td>\n",
              "      <td>1.004006</td>\n",
              "      <td>0.877623</td>\n",
              "      <td>0.984797</td>\n",
              "      <td>0.764516</td>\n",
              "      <td>0.999396</td>\n",
              "      <td>1.482858</td>\n",
              "      <td>0.998764</td>\n",
              "      <td>1.041392</td>\n",
              "      <td>0.993717</td>\n",
              "      <td>0.791186</td>\n",
              "      <td>0.993474</td>\n",
              "      <td>0.911268</td>\n",
              "      <td>1.016088</td>\n",
              "      <td>1.350418</td>\n",
              "      <td>1.008930</td>\n",
              "      <td>1.315767</td>\n",
              "      <td>1.008863</td>\n",
              "      <td>0.793734</td>\n",
              "      <td>1.017407</td>\n",
              "      <td>0.632423</td>\n",
              "      <td>0.985784</td>\n",
              "      <td>1.971621</td>\n",
              "      <td>1.017733</td>\n",
              "      <td>0.511154</td>\n",
              "      <td>0.990506</td>\n",
              "      <td>1.008257</td>\n",
              "      <td>1.006420</td>\n",
              "      <td>0.855721</td>\n",
              "      <td>1.007582</td>\n",
              "      <td>2.020384</td>\n",
              "      <td>0.994554</td>\n",
              "      <td>0.794369</td>\n",
              "      <td>1.016609</td>\n",
              "      <td>0.908754</td>\n",
              "      <td>1.016167</td>\n",
              "      <td>0.926815</td>\n",
              "      <td>1.002665</td>\n",
              "      <td>0.823537</td>\n",
              "      <td>0.976809</td>\n",
              "      <td>1.463750</td>\n",
              "      <td>1.010184</td>\n",
              "      <td>0.639634</td>\n",
              "      <td>0.988870</td>\n",
              "      <td>0.939297</td>\n",
              "      <td>0.984546</td>\n",
              "      <td>1.156841</td>\n",
              "      <td>1.0</td>\n",
              "    </tr>\n",
              "    <tr>\n",
              "      <th>2020-11-02</th>\n",
              "      <td>1.005849</td>\n",
              "      <td>1.008098</td>\n",
              "      <td>1.014383</td>\n",
              "      <td>1.011208</td>\n",
              "      <td>0.715523</td>\n",
              "      <td>0.989575</td>\n",
              "      <td>1.327708</td>\n",
              "      <td>1.010163</td>\n",
              "      <td>0.712838</td>\n",
              "      <td>0.965821</td>\n",
              "      <td>1.925843</td>\n",
              "      <td>0.996553</td>\n",
              "      <td>0.721460</td>\n",
              "      <td>0.981520</td>\n",
              "      <td>1.861330</td>\n",
              "      <td>1.003395</td>\n",
              "      <td>0.887085</td>\n",
              "      <td>1.005485</td>\n",
              "      <td>0.871401</td>\n",
              "      <td>0.998107</td>\n",
              "      <td>1.058668</td>\n",
              "      <td>1.004006</td>\n",
              "      <td>0.877623</td>\n",
              "      <td>0.984797</td>\n",
              "      <td>0.764516</td>\n",
              "      <td>0.999396</td>\n",
              "      <td>1.482858</td>\n",
              "      <td>0.998764</td>\n",
              "      <td>1.041392</td>\n",
              "      <td>0.993717</td>\n",
              "      <td>0.791186</td>\n",
              "      <td>0.993474</td>\n",
              "      <td>0.911268</td>\n",
              "      <td>1.016088</td>\n",
              "      <td>1.350418</td>\n",
              "      <td>1.008930</td>\n",
              "      <td>1.315767</td>\n",
              "      <td>1.008863</td>\n",
              "      <td>0.793734</td>\n",
              "      <td>1.017407</td>\n",
              "      <td>0.632423</td>\n",
              "      <td>0.985784</td>\n",
              "      <td>1.971621</td>\n",
              "      <td>1.017733</td>\n",
              "      <td>0.511154</td>\n",
              "      <td>0.990506</td>\n",
              "      <td>1.008257</td>\n",
              "      <td>1.006420</td>\n",
              "      <td>0.855721</td>\n",
              "      <td>1.007582</td>\n",
              "      <td>2.020384</td>\n",
              "      <td>0.994554</td>\n",
              "      <td>0.794369</td>\n",
              "      <td>1.016609</td>\n",
              "      <td>0.908754</td>\n",
              "      <td>1.016167</td>\n",
              "      <td>0.926815</td>\n",
              "      <td>1.002665</td>\n",
              "      <td>0.823537</td>\n",
              "      <td>0.976809</td>\n",
              "      <td>1.463750</td>\n",
              "      <td>1.010184</td>\n",
              "      <td>0.639634</td>\n",
              "      <td>0.988870</td>\n",
              "      <td>0.939297</td>\n",
              "      <td>1.0</td>\n",
              "    </tr>\n",
              "    <tr>\n",
              "      <th>2020-11-03</th>\n",
              "      <td>1.010569</td>\n",
              "      <td>1.017722</td>\n",
              "      <td>1.009320</td>\n",
              "      <td>1.017656</td>\n",
              "      <td>1.083955</td>\n",
              "      <td>1.011208</td>\n",
              "      <td>0.715523</td>\n",
              "      <td>0.989575</td>\n",
              "      <td>1.327708</td>\n",
              "      <td>1.010163</td>\n",
              "      <td>0.712838</td>\n",
              "      <td>0.965821</td>\n",
              "      <td>1.925843</td>\n",
              "      <td>0.996553</td>\n",
              "      <td>0.721460</td>\n",
              "      <td>0.981520</td>\n",
              "      <td>1.861330</td>\n",
              "      <td>1.003395</td>\n",
              "      <td>0.887085</td>\n",
              "      <td>1.005485</td>\n",
              "      <td>0.871401</td>\n",
              "      <td>0.998107</td>\n",
              "      <td>1.058668</td>\n",
              "      <td>1.004006</td>\n",
              "      <td>0.877623</td>\n",
              "      <td>0.984797</td>\n",
              "      <td>0.764516</td>\n",
              "      <td>0.999396</td>\n",
              "      <td>1.482858</td>\n",
              "      <td>0.998764</td>\n",
              "      <td>1.041392</td>\n",
              "      <td>0.993717</td>\n",
              "      <td>0.791186</td>\n",
              "      <td>0.993474</td>\n",
              "      <td>0.911268</td>\n",
              "      <td>1.016088</td>\n",
              "      <td>1.350418</td>\n",
              "      <td>1.008930</td>\n",
              "      <td>1.315767</td>\n",
              "      <td>1.008863</td>\n",
              "      <td>0.793734</td>\n",
              "      <td>1.017407</td>\n",
              "      <td>0.632423</td>\n",
              "      <td>0.985784</td>\n",
              "      <td>1.971621</td>\n",
              "      <td>1.017733</td>\n",
              "      <td>0.511154</td>\n",
              "      <td>0.990506</td>\n",
              "      <td>1.008257</td>\n",
              "      <td>1.006420</td>\n",
              "      <td>0.855721</td>\n",
              "      <td>1.007582</td>\n",
              "      <td>2.020384</td>\n",
              "      <td>0.994554</td>\n",
              "      <td>0.794369</td>\n",
              "      <td>1.016609</td>\n",
              "      <td>0.908754</td>\n",
              "      <td>1.016167</td>\n",
              "      <td>0.926815</td>\n",
              "      <td>1.002665</td>\n",
              "      <td>0.823537</td>\n",
              "      <td>0.976809</td>\n",
              "      <td>1.463750</td>\n",
              "      <td>1.010184</td>\n",
              "      <td>0.639634</td>\n",
              "      <td>1.0</td>\n",
              "    </tr>\n",
              "    <tr>\n",
              "      <th>2020-11-04</th>\n",
              "      <td>1.021487</td>\n",
              "      <td>1.028647</td>\n",
              "      <td>1.028157</td>\n",
              "      <td>1.022349</td>\n",
              "      <td>1.360853</td>\n",
              "      <td>1.017656</td>\n",
              "      <td>1.083955</td>\n",
              "      <td>1.011208</td>\n",
              "      <td>0.715523</td>\n",
              "      <td>0.989575</td>\n",
              "      <td>1.327708</td>\n",
              "      <td>1.010163</td>\n",
              "      <td>0.712838</td>\n",
              "      <td>0.965821</td>\n",
              "      <td>1.925843</td>\n",
              "      <td>0.996553</td>\n",
              "      <td>0.721460</td>\n",
              "      <td>0.981520</td>\n",
              "      <td>1.861330</td>\n",
              "      <td>1.003395</td>\n",
              "      <td>0.887085</td>\n",
              "      <td>1.005485</td>\n",
              "      <td>0.871401</td>\n",
              "      <td>0.998107</td>\n",
              "      <td>1.058668</td>\n",
              "      <td>1.004006</td>\n",
              "      <td>0.877623</td>\n",
              "      <td>0.984797</td>\n",
              "      <td>0.764516</td>\n",
              "      <td>0.999396</td>\n",
              "      <td>1.482858</td>\n",
              "      <td>0.998764</td>\n",
              "      <td>1.041392</td>\n",
              "      <td>0.993717</td>\n",
              "      <td>0.791186</td>\n",
              "      <td>0.993474</td>\n",
              "      <td>0.911268</td>\n",
              "      <td>1.016088</td>\n",
              "      <td>1.350418</td>\n",
              "      <td>1.008930</td>\n",
              "      <td>1.315767</td>\n",
              "      <td>1.008863</td>\n",
              "      <td>0.793734</td>\n",
              "      <td>1.017407</td>\n",
              "      <td>0.632423</td>\n",
              "      <td>0.985784</td>\n",
              "      <td>1.971621</td>\n",
              "      <td>1.017733</td>\n",
              "      <td>0.511154</td>\n",
              "      <td>0.990506</td>\n",
              "      <td>1.008257</td>\n",
              "      <td>1.006420</td>\n",
              "      <td>0.855721</td>\n",
              "      <td>1.007582</td>\n",
              "      <td>2.020384</td>\n",
              "      <td>0.994554</td>\n",
              "      <td>0.794369</td>\n",
              "      <td>1.016609</td>\n",
              "      <td>0.908754</td>\n",
              "      <td>1.016167</td>\n",
              "      <td>0.926815</td>\n",
              "      <td>1.002665</td>\n",
              "      <td>0.823537</td>\n",
              "      <td>0.976809</td>\n",
              "      <td>1.463750</td>\n",
              "      <td>1.0</td>\n",
              "    </tr>\n",
              "  </tbody>\n",
              "</table>\n",
              "</div>"
            ],
            "text/plain": [
              "                Open      High       Low  ...  30_Close  30_Volume  Outcome\n",
              "Date                                      ...                              \n",
              "2020-10-29  0.984372  0.985661  0.996811  ...  0.991205   1.114833      0.0\n",
              "2020-10-30  1.004191  0.988872  0.992341  ...  0.984546   1.156841      1.0\n",
              "2020-11-02  1.005849  1.008098  1.014383  ...  0.988870   0.939297      1.0\n",
              "2020-11-03  1.010569  1.017722  1.009320  ...  1.010184   0.639634      1.0\n",
              "2020-11-04  1.021487  1.028647  1.028157  ...  0.976809   1.463750      1.0\n",
              "\n",
              "[5 rows x 66 columns]"
            ]
          },
          "metadata": {
            "tags": []
          },
          "execution_count": 17
        }
      ]
    },
    {
      "cell_type": "code",
      "metadata": {
        "colab": {
          "base_uri": "https://localhost:8080/",
          "height": 419
        },
        "id": "XMjHJ5Rbs0es",
        "outputId": "27cce6b2-ec4d-42af-f877-9f56c8208bb4"
      },
      "source": [
        "data_model = data#[[prediction_feature, \"Volume\", \"Outcome\"]]\n",
        "data_model = data_model.iloc[:, :]\n",
        "data_model.columns\n",
        "ss = pd.DataFrame(data_model.columns)\n",
        "ss"
      ],
      "execution_count": 18,
      "outputs": [
        {
          "output_type": "execute_result",
          "data": {
            "text/html": [
              "<div>\n",
              "<style scoped>\n",
              "    .dataframe tbody tr th:only-of-type {\n",
              "        vertical-align: middle;\n",
              "    }\n",
              "\n",
              "    .dataframe tbody tr th {\n",
              "        vertical-align: top;\n",
              "    }\n",
              "\n",
              "    .dataframe thead th {\n",
              "        text-align: right;\n",
              "    }\n",
              "</style>\n",
              "<table border=\"1\" class=\"dataframe\">\n",
              "  <thead>\n",
              "    <tr style=\"text-align: right;\">\n",
              "      <th></th>\n",
              "      <th>0</th>\n",
              "    </tr>\n",
              "  </thead>\n",
              "  <tbody>\n",
              "    <tr>\n",
              "      <th>0</th>\n",
              "      <td>Open</td>\n",
              "    </tr>\n",
              "    <tr>\n",
              "      <th>1</th>\n",
              "      <td>High</td>\n",
              "    </tr>\n",
              "    <tr>\n",
              "      <th>2</th>\n",
              "      <td>Low</td>\n",
              "    </tr>\n",
              "    <tr>\n",
              "      <th>3</th>\n",
              "      <td>Close</td>\n",
              "    </tr>\n",
              "    <tr>\n",
              "      <th>4</th>\n",
              "      <td>Volume</td>\n",
              "    </tr>\n",
              "    <tr>\n",
              "      <th>...</th>\n",
              "      <td>...</td>\n",
              "    </tr>\n",
              "    <tr>\n",
              "      <th>61</th>\n",
              "      <td>29_Close</td>\n",
              "    </tr>\n",
              "    <tr>\n",
              "      <th>62</th>\n",
              "      <td>29_Volume</td>\n",
              "    </tr>\n",
              "    <tr>\n",
              "      <th>63</th>\n",
              "      <td>30_Close</td>\n",
              "    </tr>\n",
              "    <tr>\n",
              "      <th>64</th>\n",
              "      <td>30_Volume</td>\n",
              "    </tr>\n",
              "    <tr>\n",
              "      <th>65</th>\n",
              "      <td>Outcome</td>\n",
              "    </tr>\n",
              "  </tbody>\n",
              "</table>\n",
              "<p>66 rows × 1 columns</p>\n",
              "</div>"
            ],
            "text/plain": [
              "            0\n",
              "0        Open\n",
              "1        High\n",
              "2         Low\n",
              "3       Close\n",
              "4      Volume\n",
              "..        ...\n",
              "61   29_Close\n",
              "62  29_Volume\n",
              "63   30_Close\n",
              "64  30_Volume\n",
              "65    Outcome\n",
              "\n",
              "[66 rows x 1 columns]"
            ]
          },
          "metadata": {
            "tags": []
          },
          "execution_count": 18
        }
      ]
    },
    {
      "cell_type": "code",
      "metadata": {
        "id": "ouS0f9Motx9b"
      },
      "source": [
        "#xgboost test, train, split, fit\n",
        "#store X and Y data\n",
        "X = data_model.iloc[:, :-1].astype(float).values\n",
        "y = data_model.iloc[:, -1].astype(float).values"
      ],
      "execution_count": 19,
      "outputs": []
    },
    {
      "cell_type": "code",
      "metadata": {
        "id": "uiyxQXeRug39"
      },
      "source": [
        "#splitting the training and testing data\n",
        "from sklearn.model_selection import train_test_split\n",
        "X_train, X_test, y_train, y_test = train_test_split(X, y, test_size = 0.1, random_state = 0)"
      ],
      "execution_count": 20,
      "outputs": []
    },
    {
      "cell_type": "code",
      "metadata": {
        "colab": {
          "base_uri": "https://localhost:8080/"
        },
        "id": "hQnKYopYulfr",
        "outputId": "41b08bc7-0610-4698-b540-c22d5ae25fed"
      },
      "source": [
        "#fitting gboost to train set\n",
        "from xgboost import XGBClassifier\n",
        "classifier = XGBClassifier(\n",
        "    enable_experimental_json_serialization=True,\n",
        "    n_estimators=300,\n",
        "    learning_rate=0.02,\n",
        "    max_depth=4,\n",
        "    subsample = 0.8,\n",
        "    colsample_bytree = 1,\n",
        "    gamma=.1)\n",
        "classifier.fit(X_train, y_train)"
      ],
      "execution_count": 21,
      "outputs": [
        {
          "output_type": "execute_result",
          "data": {
            "text/plain": [
              "XGBClassifier(base_score=0.5, booster='gbtree', colsample_bylevel=1,\n",
              "              colsample_bynode=1, colsample_bytree=1,\n",
              "              enable_experimental_json_serialization=True, gamma=0.1,\n",
              "              learning_rate=0.02, max_delta_step=0, max_depth=4,\n",
              "              min_child_weight=1, missing=None, n_estimators=300, n_jobs=1,\n",
              "              nthread=None, objective='binary:logistic', random_state=0,\n",
              "              reg_alpha=0, reg_lambda=1, scale_pos_weight=1, seed=None,\n",
              "              silent=None, subsample=0.8, verbosity=1)"
            ]
          },
          "metadata": {
            "tags": []
          },
          "execution_count": 21
        }
      ]
    },
    {
      "cell_type": "code",
      "metadata": {
        "colab": {
          "base_uri": "https://localhost:8080/"
        },
        "id": "m5iK1FVFwr_E",
        "outputId": "05234b4f-3bbc-4dd8-c9a4-248e33096aec"
      },
      "source": [
        "#predicting the test set absolute results\n",
        "y_pred = classifier.predict(X_test)\n",
        "np.array(np.round(y_pred, 3)[:10])"
      ],
      "execution_count": 22,
      "outputs": [
        {
          "output_type": "execute_result",
          "data": {
            "text/plain": [
              "array([1., 1., 1., 1., 1., 1., 0., 1., 1., 0.])"
            ]
          },
          "metadata": {
            "tags": []
          },
          "execution_count": 22
        }
      ]
    },
    {
      "cell_type": "code",
      "metadata": {
        "colab": {
          "base_uri": "https://localhost:8080/"
        },
        "id": "uxHbgN5oxYvM",
        "outputId": "02db9c93-f441-4e3d-f03f-212108b74f62"
      },
      "source": [
        "#predicting the probability test set results\n",
        "y_pred_proba = classifier.predict_proba(X_test)\n",
        "np.array(np.round(y_pred_proba, 3)[:5])"
      ],
      "execution_count": 23,
      "outputs": [
        {
          "output_type": "execute_result",
          "data": {
            "text/plain": [
              "array([[0.353, 0.647],\n",
              "       [0.408, 0.592],\n",
              "       [0.485, 0.515],\n",
              "       [0.481, 0.519],\n",
              "       [0.398, 0.602]], dtype=float32)"
            ]
          },
          "metadata": {
            "tags": []
          },
          "execution_count": 23
        }
      ]
    },
    {
      "cell_type": "code",
      "metadata": {
        "colab": {
          "base_uri": "https://localhost:8080/"
        },
        "id": "EksS88Lqx0pU",
        "outputId": "5cf61c64-c7a1-40e5-d1d0-36a4a03dc33f"
      },
      "source": [
        "#compare only high probability items to result and determine best threshold\n",
        "for threshold in range(51, 99, 1):\n",
        "    counts = 0\n",
        "    thresh_counts = 0\n",
        "    correct = 0\n",
        "    y_test_hp = []\n",
        "    y_pred_hp = []\n",
        "    for i in y_pred_proba:\n",
        "        actual_result = y_test[counts]\n",
        "        countj = 0\n",
        "        for j in i:\n",
        "            if j >= threshold / 100:\n",
        "                y_test_hp.append(actual_result)\n",
        "                y_pred_hp.append(countj)\n",
        "                thresh_counts += 1\n",
        "                if countj == actual_result:\n",
        "                    correct += 1\n",
        "                    # print(j, countj, actual_result)\n",
        "            countj +=1\n",
        "        counts += 1\n",
        "    \n",
        "    if correct > 0:\n",
        "        accuracy_hp = round(correct / thresh_counts, 2)\n",
        "        winning_count = round(correct * accuracy_hp, 0)\n",
        "        # print (correct, thresh_counts)\n",
        "        print(f\"Accuracy HP: {accuracy_hp * 100}%, Winning Count: {winning_count}, Threshold: {threshold}\")\n"
      ],
      "execution_count": 24,
      "outputs": [
        {
          "output_type": "stream",
          "text": [
            "Accuracy HP: 52.0%, Winning Count: 125.0, Threshold: 51\n",
            "Accuracy HP: 51.0%, Winning Count: 103.0, Threshold: 52\n",
            "Accuracy HP: 52.0%, Winning Count: 97.0, Threshold: 53\n",
            "Accuracy HP: 52.0%, Winning Count: 84.0, Threshold: 54\n",
            "Accuracy HP: 53.0%, Winning Count: 74.0, Threshold: 55\n",
            "Accuracy HP: 53.0%, Winning Count: 61.0, Threshold: 56\n",
            "Accuracy HP: 52.0%, Winning Count: 46.0, Threshold: 57\n",
            "Accuracy HP: 53.0%, Winning Count: 39.0, Threshold: 58\n",
            "Accuracy HP: 55.00000000000001%, Winning Count: 32.0, Threshold: 59\n",
            "Accuracy HP: 55.00000000000001%, Winning Count: 27.0, Threshold: 60\n",
            "Accuracy HP: 56.99999999999999%, Winning Count: 22.0, Threshold: 61\n",
            "Accuracy HP: 63.0%, Winning Count: 21.0, Threshold: 62\n",
            "Accuracy HP: 61.0%, Winning Count: 16.0, Threshold: 63\n",
            "Accuracy HP: 64.0%, Winning Count: 15.0, Threshold: 64\n",
            "Accuracy HP: 60.0%, Winning Count: 9.0, Threshold: 65\n",
            "Accuracy HP: 59.0%, Winning Count: 6.0, Threshold: 66\n",
            "Accuracy HP: 55.00000000000001%, Winning Count: 3.0, Threshold: 67\n",
            "Accuracy HP: 80.0%, Winning Count: 3.0, Threshold: 68\n",
            "Accuracy HP: 67.0%, Winning Count: 1.0, Threshold: 69\n"
          ],
          "name": "stdout"
        }
      ]
    },
    {
      "cell_type": "code",
      "metadata": {
        "colab": {
          "base_uri": "https://localhost:8080/"
        },
        "id": "BHXYLy5d2iP7",
        "outputId": "be1155ac-3a94-4cdb-dbd1-52b212a7c214"
      },
      "source": [
        "#making the confusion matrix\n",
        "from sklearn.metrics import confusion_matrix\n",
        "cm = confusion_matrix(y_test, y_pred)\n",
        "cm"
      ],
      "execution_count": 25,
      "outputs": [
        {
          "output_type": "execute_result",
          "data": {
            "text/plain": [
              "array([[ 55, 187],\n",
              "       [ 59, 221]])"
            ]
          },
          "metadata": {
            "tags": []
          },
          "execution_count": 25
        }
      ]
    },
    {
      "cell_type": "code",
      "metadata": {
        "colab": {
          "background_save": true
        },
        "id": "zr8DiaaZ3DXb"
      },
      "source": [
        "from sklearn.model_selection import cross_val_score\n",
        "accuracies = cross_val_score(estimator = classifier, X = X_train, y = y_train, cv = 10)\n",
        "acc_std = accuracies.std()\n",
        "acc_mean = accuracies.mean()\n",
        "print(\"Accuracy non-Kf: %.2f%% (%.2f%%)\" % (acc_mean*100, acc_std*100))"
      ],
      "execution_count": null,
      "outputs": []
    },
    {
      "cell_type": "code",
      "metadata": {
        "colab": {
          "background_save": true
        },
        "id": "-YfuPUsk4PU9"
      },
      "source": [
        "#get real model results for average\n",
        "from sklearn.model_selection import KFold\n",
        "kfold = KFold(n_splits=10, shuffle=False)\n",
        "results = cross_val_score(classifier, X, y, cv=kfold)\n",
        "print(\"Real Accuracy: %.2f%% (%.2f%%)\" % (results.mean()*100, results.std()*100))"
      ],
      "execution_count": null,
      "outputs": []
    },
    {
      "cell_type": "code",
      "metadata": {
        "colab": {
          "background_save": true,
          "base_uri": "https://localhost:8080/"
        },
        "id": "hxKCqTcq5Pwd",
        "outputId": "f01db59d-ae72-464c-e400-fbb532c139e7"
      },
      "source": [
        "# the 0 means acc on down days and 1 is acc on up days\n",
        "from sklearn.metrics import classification_report\n",
        "cr = classification_report(y_test, y_pred)\n",
        "print(cr)"
      ],
      "execution_count": null,
      "outputs": [
        {
          "output_type": "stream",
          "text": [
            "              precision    recall  f1-score   support\n",
            "\n",
            "         0.0       0.76      0.68      0.72       234\n",
            "         1.0       0.74      0.81      0.77       261\n",
            "\n",
            "    accuracy                           0.75       495\n",
            "   macro avg       0.75      0.74      0.74       495\n",
            "weighted avg       0.75      0.75      0.75       495\n",
            "\n"
          ],
          "name": "stdout"
        }
      ]
    },
    {
      "cell_type": "code",
      "metadata": {
        "colab": {
          "background_save": true,
          "base_uri": "https://localhost:8080/",
          "height": 483
        },
        "id": "QFYBq4j65tqF",
        "outputId": "5e287b11-18e4-4db6-cee4-317a838dd04c"
      },
      "source": [
        "preds = pd.DataFrame()\n",
        "preds[\"Y_Pred\"] = y_pred\n",
        "preds[\"Y_Actual\"] = y_test\n",
        "plt.figure(figsize=(16,8))\n",
        "plt.plot(prediction_feature)\n",
        "plt.show()"
      ],
      "execution_count": null,
      "outputs": [
        {
          "output_type": "display_data",
          "data": {
            "image/png": "[encoded data removed]",
            "text/plain": [
              "<Figure size 1152x576 with 1 Axes>"
            ]
          },
          "metadata": {
            "tags": []
          }
        }
      ]
    },
    {
      "cell_type": "code",
      "metadata": {
        "colab": {
          "background_save": true
        },
        "id": "5B5WR-BP6MId"
      },
      "source": [
        "preds.to_csv(\"preds_test.csv\")"
      ],
      "execution_count": null,
      "outputs": []
    },
    {
      "cell_type": "code",
      "metadata": {
        "id": "w-rKAWEn6Ts5"
      },
      "source": [
        "#feature importance\n",
        "from xgboost import plot_importance\n",
        "plot_importance(classifier)\n",
        "plt.show()"
      ],
      "execution_count": null,
      "outputs": []
    },
    {
      "cell_type": "code",
      "metadata": {
        "id": "6Z5kto6nBBnq"
      },
      "source": [
        "from xgboost import plot_tree\n",
        "xgb.plot_tree(classifier, num_trees=2)\n",
        "fig = plt.gcf()\n",
        "fig.set_size_inches(40, 40)"
      ],
      "execution_count": null,
      "outputs": []
    },
    {
      "cell_type": "code",
      "metadata": {
        "id": "twdxohJ3EUyn"
      },
      "source": [
        "# save model to file\n",
        "classifier.save_model(\"xgb_price.model.py\")"
      ],
      "execution_count": null,
      "outputs": []
    },
    {
      "cell_type": "code",
      "metadata": {
        "id": "W07NJYqRRPbv"
      },
      "source": [
        ""
      ],
      "execution_count": null,
      "outputs": []
    }
  ]
}